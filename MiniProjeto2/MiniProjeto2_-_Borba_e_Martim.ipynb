{
 "cells": [
  {
   "cell_type": "markdown",
   "metadata": {},
   "source": [
    "___\n",
    "# <font color = \"red\">Mini Projeto 2 - Teorema do Limite Central</font>\n",
    "___\n",
    "\n",
    "**Filipe Borba e Martim José**"
   ]
  },
  {
   "cell_type": "code",
   "execution_count": 36,
   "metadata": {
    "collapsed": false
   },
   "outputs": [],
   "source": [
    "%matplotlib inline\n",
    "\n",
    "import os\n",
    "import matplotlib.pyplot as plt\n",
    "import pandas as pd\n",
    "import numpy as np\n",
    "from scipy import stats"
   ]
  },
  {
   "cell_type": "markdown",
   "metadata": {
    "collapsed": true
   },
   "source": [
    "___\n",
    "## <font color='blue'>1) Construindo os valores da população</font>\n",
    "\n",
    "Distribuição teórica utilizada: Normal\n",
    "\n",
    "Média = 4\n",
    "\n",
    "Desvio Padrão = 0.5"
   ]
  },
  {
   "cell_type": "code",
   "execution_count": 37,
   "metadata": {
    "collapsed": false
   },
   "outputs": [],
   "source": [
    "#Valores\n",
    "mu = 4\n",
    "dp = 0.5"
   ]
  },
  {
   "cell_type": "code",
   "execution_count": 38,
   "metadata": {
    "collapsed": false
   },
   "outputs": [
    {
     "name": "stdout",
     "output_type": "stream",
     "text": [
      "Média da Normal (μ): 4.00010977211\n",
      "Variância da Normal (σ²/Var): 0.249785261252\n"
     ]
    }
   ],
   "source": [
    "normal = stats.norm.rvs(loc=mu, scale=dp, size=1000000)\n",
    "\n",
    "print(\"Média da Normal (μ):\", np.mean(normal))\n",
    "print(\"Variância da Normal (σ²/Var):\", np.var(normal))"
   ]
  },
  {
   "cell_type": "code",
   "execution_count": 39,
   "metadata": {
    "collapsed": false
   },
   "outputs": [
    {
     "data": {
      "text/plain": [
       "[<matplotlib.lines.Line2D at 0x27935442940>]"
      ]
     },
     "execution_count": 39,
     "metadata": {},
     "output_type": "execute_result"
    },
    {
     "data": {
      "image/png": "[encoded data removed]",
      "text/plain": [
       "<matplotlib.figure.Figure at 0x2793a9a10b8>"
      ]
     },
     "metadata": {},
     "output_type": "display_data"
    }
   ],
   "source": [
    "hist = plt.hist(normal, bins = np.arange(2,6,0.5), normed = 1, color=\"blue\")\n",
    "hist\n",
    "normalx = np.linspace(2, 6, len(normal))\n",
    "normaly = stats.norm.pdf(normalx, loc=mu, scale=dp)\n",
    "plt.plot(normalx,normaly,\"red\",lw=3)"
   ]
  },
  {
   "cell_type": "markdown",
   "metadata": {},
   "source": [
    "## <font color='blue'>2) Construindo a distribuição da média amostral</font>"
   ]
  },
  {
   "cell_type": "code",
   "execution_count": 40,
   "metadata": {
    "collapsed": false
   },
   "outputs": [
    {
     "name": "stdout",
     "output_type": "stream",
     "text": [
      "Média Amostral para n=2 (X̅): 3.99898557601\n"
     ]
    }
   ],
   "source": [
    "n = 2\n",
    "escolha = []\n",
    "for i in range(10000):\n",
    "    escolha.append(np.mean(np.random.choice(normal,size=n)))\n",
    "\n",
    "print(\"Média Amostral para n=2 (X̅):\", np.mean(escolha))"
   ]
  },
  {
   "cell_type": "code",
   "execution_count": 41,
   "metadata": {
    "collapsed": false
   },
   "outputs": [
    {
     "name": "stdout",
     "output_type": "stream",
     "text": [
      "Média Amostral para n=10000 (X̅): 3.99571223035\n",
      "Média da Média Amostral (μ): 3.99571223035\n",
      "Variância da Média Amostral (σ²/Var): 0.125221640333\n"
     ]
    },
    {
     "data": {
      "text/plain": [
       "(array([ 0.    ,  0.0058,  0.1542,  0.8398,  0.8472,  0.1492,  0.0038]),\n",
       " array([ 2. ,  2.5,  3. ,  3.5,  4. ,  4.5,  5. ,  5.5]),\n",
       " <a list of 7 Patch objects>)"
      ]
     },
     "execution_count": 41,
     "metadata": {},
     "output_type": "execute_result"
    },
    {
     "data": {
      "image/png": "[encoded data removed]",
      "text/plain": [
       "<matplotlib.figure.Figure at 0x2793547cac8>"
      ]
     },
     "metadata": {},
     "output_type": "display_data"
    }
   ],
   "source": [
    "n = 2\n",
    "escolha = []\n",
    "for i in range(10000):\n",
    "    escolha.append(np.mean(np.random.choice(normal,size=n)))\n",
    "\n",
    "print(\"Média Amostral para n=10000 (X̅):\", np.mean(escolha))\n",
    "print(\"Média da Média Amostral (μ):\", np.mean(escolha))\n",
    "print(\"Variância da Média Amostral (σ²/Var):\", np.var(escolha))\n",
    "\n",
    "histmediaamostral = plt.hist(escolha, bins = np.arange(2,6,0.5), normed = 1, color=\"blue\")\n",
    "histmediaamostral"
   ]
  },
  {
   "cell_type": "code",
   "execution_count": 42,
   "metadata": {
    "collapsed": false
   },
   "outputs": [
    {
     "name": "stdout",
     "output_type": "stream",
     "text": [
      "Média Amostral para n=4 (X̅): 3.99902939932\n",
      "Média da Média Amostral (μ): 3.99902939932\n",
      "Variância da Média Amostral (σ²/Var): 0.0621593467613\n"
     ]
    },
    {
     "data": {
      "text/plain": [
       "(array([  0.00000000e+00,   0.00000000e+00,   4.72000000e-02,\n",
       "          9.41200000e-01,   9.72000000e-01,   3.94000000e-02,\n",
       "          2.00000000e-04]),\n",
       " array([ 2. ,  2.5,  3. ,  3.5,  4. ,  4.5,  5. ,  5.5]),\n",
       " <a list of 7 Patch objects>)"
      ]
     },
     "execution_count": 42,
     "metadata": {},
     "output_type": "execute_result"
    },
    {
     "data": {
      "image/png": "[encoded data removed]",
      "text/plain": [
       "<matplotlib.figure.Figure at 0x279354ec6a0>"
      ]
     },
     "metadata": {},
     "output_type": "display_data"
    }
   ],
   "source": [
    "n = 4\n",
    "escolha = []\n",
    "for i in range(10000):\n",
    "    escolha.append(np.mean(np.random.choice(normal,size=n)))\n",
    "\n",
    "print(\"Média Amostral para n=4 (X̅):\", np.mean(escolha))\n",
    "print(\"Média da Média Amostral (μ):\", np.mean(escolha))\n",
    "print(\"Variância da Média Amostral (σ²/Var):\", np.var(escolha))\n",
    "\n",
    "histmediaamostral1 = plt.hist(escolha, bins = np.arange(2,6,0.5), normed = 1, color=\"blue\")\n",
    "histmediaamostral1"
   ]
  },
  {
   "cell_type": "code",
   "execution_count": 43,
   "metadata": {
    "collapsed": false
   },
   "outputs": [
    {
     "name": "stdout",
     "output_type": "stream",
     "text": [
      "Média Amostral para n=20 (X̅): 3.99886492585\n",
      "Média da Média Amostral (μ): 3.99886492585\n",
      "Variância da Média Amostral (σ²/Var): 0.0124121396663\n"
     ]
    },
    {
     "data": {
      "text/plain": [
       "(array([ 0.   ,  0.   ,  0.   ,  1.011,  0.989,  0.   ,  0.   ]),\n",
       " array([ 2. ,  2.5,  3. ,  3.5,  4. ,  4.5,  5. ,  5.5]),\n",
       " <a list of 7 Patch objects>)"
      ]
     },
     "execution_count": 43,
     "metadata": {},
     "output_type": "execute_result"
    },
    {
     "data": {
      "image/png": "[encoded data removed]",
      "text/plain": [
       "<matplotlib.figure.Figure at 0x2793556fe80>"
      ]
     },
     "metadata": {},
     "output_type": "display_data"
    }
   ],
   "source": [
    "n = 20\n",
    "escolha = []\n",
    "for i in range(10000):\n",
    "    escolha.append(np.mean(np.random.choice(normal,size=n)))\n",
    "\n",
    "print(\"Média Amostral para n=20 (X̅):\", np.mean(escolha))\n",
    "print(\"Média da Média Amostral (μ):\", np.mean(escolha))\n",
    "print(\"Variância da Média Amostral (σ²/Var):\", np.var(escolha))\n",
    "\n",
    "histmediaamostral2 = plt.hist(escolha, bins = np.arange(2,6,0.5), normed = 1, color=\"blue\")\n",
    "histmediaamostral2"
   ]
  },
  {
   "cell_type": "code",
   "execution_count": 44,
   "metadata": {
    "collapsed": false
   },
   "outputs": [
    {
     "data": {
      "text/plain": [
       "(array([ 0.    ,  0.    ,  0.    ,  0.9914,  1.0086,  0.    ,  0.    ]),\n",
       " array([ 2. ,  2.5,  3. ,  3.5,  4. ,  4.5,  5. ,  5.5]),\n",
       " <a list of 7 Patch objects>)"
      ]
     },
     "execution_count": 44,
     "metadata": {},
     "output_type": "execute_result"
    },
    {
     "data": {
      "image/png": "[encoded data removed]",
      "text/plain": [
       "<matplotlib.figure.Figure at 0x279355717b8>"
      ]
     },
     "metadata": {},
     "output_type": "display_data"
    }
   ],
   "source": [
    "n = 50\n",
    "escolha = []\n",
    "for i in range(10000):\n",
    "    escolha.append(np.mean(np.random.choice(normal,size=n)))\n",
    "\n",
    "histmediaamostral3 = plt.hist(escolha, bins = np.arange(2,6,0.5), normed = 1, color=\"blue\")\n",
    "histmediaamostral3\n",
    "    "
   ]
  },
  {
   "cell_type": "code",
   "execution_count": 45,
   "metadata": {
    "collapsed": false
   },
   "outputs": [
    {
     "data": {
      "text/plain": [
       "<matplotlib.legend.Legend at 0x2793678e4e0>"
      ]
     },
     "execution_count": 45,
     "metadata": {},
     "output_type": "execute_result"
    },
    {
     "data": {
      "image/png": "[encoded data removed]",
      "text/plain": [
       "<matplotlib.figure.Figure at 0x27935654ef0>"
      ]
     },
     "metadata": {},
     "output_type": "display_data"
    }
   ],
   "source": [
    "import matplotlib.patches as mpatches\n",
    "\n",
    "n = 50\n",
    "escolha = []\n",
    "for i in range(10000):\n",
    "    escolha.append(np.mean(np.random.choice(normal,size=n)))\n",
    "histmediaamostral3 = plt.hist(escolha, bins = 20, normed = 1, color=\"red\", alpha = 0.5)\n",
    "histmediaamostral3\n",
    "\n",
    "n = 20\n",
    "escolha = []\n",
    "for i in range(10000):\n",
    "    escolha.append(np.mean(np.random.choice(normal,size=n)))   \n",
    "histmediaamostral2 = plt.hist(escolha, bins = 20, normed = 1, color=\"blue\", alpha = 0.5)\n",
    "histmediaamostral2\n",
    "\n",
    "n = 4\n",
    "escolha = []\n",
    "for i in range(10000):\n",
    "    escolha.append(np.mean(np.random.choice(normal,size=n)))\n",
    "histmediaamostral1 = plt.hist(escolha, bins = 20, normed = 1, color=\"green\", alpha = 0.5)\n",
    "histmediaamostral1\n",
    "\n",
    "n = 2\n",
    "escolha = []\n",
    "for i in range(10000):\n",
    "    escolha.append(np.mean(np.random.choice(normal,size=n)))\n",
    "histmediaamostral = plt.hist(escolha, bins = 20, normed = 1, color=\"yellow\", alpha = 0.5)\n",
    "histmediaamostral\n",
    "\n",
    "legenda50= mpatches.Patch(color='r', alpha = 0.5, label='50 amostras')\n",
    "legenda20 = mpatches.Patch(color='b', alpha = 0.5, label='20 amostras')\n",
    "legenda4= mpatches.Patch(color='g', alpha = 0.5, label='4 amostras')\n",
    "legenda2 = mpatches.Patch(color='y', alpha = 0.5, label='2 amostras')\n",
    "plt.legend(handles=[legenda50, legenda20, legenda4, legenda2])"
   ]
  },
  {
   "cell_type": "markdown",
   "metadata": {},
   "source": [
    "<font color=\"blue\">Observando os histogramas acima, conforme aumentamos o n (número de amostras), a Média Amostral (X̅) se aproxima da Média Real (μ) e o desvio padrão diminui, visto que a largura da distribuição (normal) diminui.  \n",
    "\n",
    "O teorema do limite central demonsta que, para uma amostra aleatória retirada de uma população cuja variável de interesse X tem média e desvio padrão, a distribuição da média amostral se aproxima de uma distribuição normal conforme o número de amostras tende ao infinito. \n",
    "\n",
    "Ou seja, se quiseremos fazer uma média amostral de uma população, ao invés de fazer uma coleta de 1000 amostras, podemos fazer 100 coletas de 10 amostras. Quanto maior o número de amostras e de coletas, mais próxima a média amostral estará da média real e menor será o desvio padrão.</font>\n"
   ]
  },
  {
   "cell_type": "code",
   "execution_count": 50,
   "metadata": {
    "collapsed": false
   },
   "outputs": [
    {
     "data": {
      "text/plain": [
       "(array([ 0.00320609,  0.043683  ,  0.27251778,  0.68590322,  0.68530207,\n",
       "         0.26550446,  0.04388338]),\n",
       " array([ 2. ,  2.5,  3. ,  3.5,  4. ,  4.5,  5. ,  5.5]),\n",
       " <a list of 7 Patch objects>)"
      ]
     },
     "execution_count": 50,
     "metadata": {},
     "output_type": "execute_result"
    },
    {
     "data": {
      "image/png": "[encoded data removed]",
      "text/plain": [
       "<matplotlib.figure.Figure at 0x2793a993da0>"
      ]
     },
     "metadata": {},
     "output_type": "display_data"
    }
   ],
   "source": [
    "n = 50\n",
    "escolha = []\n",
    "escolha1 = []\n",
    "escolha9 = []\n",
    "for i in range(10000):\n",
    "    escolha.append(np.random.choice(normal,size=n))\n",
    "    escolha1.append(escolha[i][0])\n",
    "    escolha9.append(escolha[i][8])\n",
    "\n",
    "histmediaamostral4 = plt.hist(escolha1, bins = np.arange(2,6,0.5), normed = 1, color=\"r\", alpha = 0.5)\n",
    "histmediaamostral4"
   ]
  },
  {
   "cell_type": "code",
   "execution_count": 51,
   "metadata": {
    "collapsed": false
   },
   "outputs": [
    {
     "data": {
      "text/plain": [
       "(array([ 0.0010016 ,  0.04086538,  0.27904647,  0.69471154,  0.68609776,\n",
       "         0.2568109 ,  0.04146635]),\n",
       " array([ 2. ,  2.5,  3. ,  3.5,  4. ,  4.5,  5. ,  5.5]),\n",
       " <a list of 7 Patch objects>)"
      ]
     },
     "execution_count": 51,
     "metadata": {},
     "output_type": "execute_result"
    },
    {
     "data": {
      "image/png": "[encoded data removed]",
      "text/plain": [
       "<matplotlib.figure.Figure at 0x279359c3f60>"
      ]
     },
     "metadata": {},
     "output_type": "display_data"
    }
   ],
   "source": [
    "histmediaamostral5 = plt.hist(escolha9, bins = np.arange(2,6,0.5), normed = 1, color=\"b\", alpha = 0.5)\n",
    "histmediaamostral5"
   ]
  },
  {
   "cell_type": "code",
   "execution_count": 47,
   "metadata": {
    "collapsed": false
   },
   "outputs": [
    {
     "data": {
      "text/plain": [
       "<matplotlib.legend.Legend at 0x2793a453da0>"
      ]
     },
     "execution_count": 47,
     "metadata": {},
     "output_type": "execute_result"
    },
    {
     "data": {
      "image/png": "[encoded data removed]",
      "text/plain": [
       "<matplotlib.figure.Figure at 0x27935671eb8>"
      ]
     },
     "metadata": {},
     "output_type": "display_data"
    }
   ],
   "source": [
    "n = 50\n",
    "escolha = []\n",
    "for i in range(10000):\n",
    "    escolha.append(np.mean(np.random.choice(normal,size=n)))\n",
    "histmediaamostral3 = plt.hist(escolha, bins = 20, normed = 1, color=\"red\", alpha = 0.5)\n",
    "histmediaamostral3\n",
    "\n",
    "histmediaamostral4 = plt.hist(escolha1, bins = 20, normed = 1, color=\"r\", alpha = 0.5)\n",
    "histmediaamostral4\n",
    "\n",
    "histmediaamostral5 = plt.hist(escolha9, bins = 20, normed = 1, color=\"b\", alpha = 0.5)\n",
    "histmediaamostral5\n",
    "\n",
    "legenda50= mpatches.Patch(color='r', alpha = 0.5, label='X')\n",
    "legenda1 = mpatches.Patch(color='b', alpha = 0.5, label='X1')\n",
    "legenda9= mpatches.Patch(color='g', alpha = 0.5, label='X9')\n",
    "plt.legend(handles=[legenda50, legenda1, legenda9])"
   ]
  },
  {
   "cell_type": "code",
   "execution_count": 49,
   "metadata": {
    "collapsed": false
   },
   "outputs": [
    {
     "name": "stdout",
     "output_type": "stream",
     "text": [
      "Correlação entre X1 e X9: 0.0201385539289\n"
     ]
    }
   ],
   "source": [
    "print(\"Correlação entre X1 e X9:\", np.corrcoef(escolha1,escolha9)[0,1])"
   ]
  },
  {
   "cell_type": "markdown",
   "metadata": {},
   "source": [
    "<font color=\"blue\">Dado que a correlação é próxima de 0, os eventos são independentes.</font>"
   ]
  },
  {
   "cell_type": "code",
   "execution_count": null,
   "metadata": {
    "collapsed": true
   },
   "outputs": [],
   "source": []
  }
 ],
 "metadata": {
  "anaconda-cloud": {},
  "kernelspec": {
   "display_name": "Python [Root]",
   "language": "python",
   "name": "Python [Root]"
  },
  "language_info": {
   "codemirror_mode": {
    "name": "ipython",
    "version": 3
   },
   "file_extension": ".py",
   "mimetype": "text/x-python",
   "name": "python",
   "nbconvert_exporter": "python",
   "pygments_lexer": "ipython3",
   "version": "3.5.2"
  }
 },
 "nbformat": 4,
 "nbformat_minor": 0
}
