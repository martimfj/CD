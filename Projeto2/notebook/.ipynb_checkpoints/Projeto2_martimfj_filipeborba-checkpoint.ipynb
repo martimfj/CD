{
 "cells": [
  {
   "cell_type": "markdown",
   "metadata": {},
   "source": [
    "# <center> <font color = \"red\"> Projeto 2 - Teste A/B com Portfólio </font></center>\n",
    "### <center>  Martim José e Filipe Borba</center>"
   ]
  },
  {
   "cell_type": "code",
   "execution_count": 2,
   "metadata": {
    "collapsed": true
   },
   "outputs": [],
   "source": [
    "import pandas as pd\n",
    "import json\n",
    "import itertools\n",
    "import matplotlib.pyplot as plt\n",
    "from scipy import stats\n",
    "import numpy as np\n",
    "%matplotlib inline\n",
    "import matplotlib.patches as mpatches\n",
    "import math"
   ]
  },
  {
   "cell_type": "code",
   "execution_count": 3,
   "metadata": {
    "collapsed": false
   },
   "outputs": [],
   "source": [
    "arquivo = open(\"borbamartim-export2.json\")\n",
    "linhas = arquivo.readlines()\n",
    "texto = \"\".join(linhas)\n",
    "dados_fire = json.loads(texto)"
   ]
  },
  {
   "cell_type": "code",
   "execution_count": 4,
   "metadata": {
    "collapsed": false
   },
   "outputs": [],
   "source": [
    "# Convertendo para um dataframe\n",
    "lista_dicionarios = []\n",
    "\n",
    "for k,v in dados_fire[\"borbamartim-cd-351f6\"].items():\n",
    "    lista_dicionarios.append(v)\n",
    "    \n",
    "dataframe = pd.DataFrame.from_records(lista_dicionarios)"
   ]
  },
  {
   "cell_type": "code",
   "execution_count": 5,
   "metadata": {
    "collapsed": true
   },
   "outputs": [],
   "source": [
    "# Convertendo para um DataFrame de delta_t\n",
    "agrupado = dataframe.groupby(by=[\"user_id\", \"versao\"])\n",
    "users = set(dataframe.user_id) # We convert it to a set so that each user appear only once\n",
    "users = list(users) "
   ]
  },
  {
   "cell_type": "code",
   "execution_count": 6,
   "metadata": {
    "collapsed": false
   },
   "outputs": [],
   "source": [
    "resultados = []\n",
    "\n",
    "for u in users:\n",
    "    for versao in [\"A\", \"B\"]:\n",
    "        if (u, versao) in agrupado.groups.keys(): # Check if a specific pair user/type of test happened\n",
    "            grupo1 =  agrupado.get_group((u, versao))\n",
    "            grupo1 = grupo1.sort_values(by=\"tempo\") # Para evitar que inícios sem fim gerem tempos negativos\n",
    "            \n",
    "            if len(grupo1[grupo1.tipo==\"final\"])>= 1 and len(grupo1[grupo1.tipo==\"inicio\"]) >= 1:\n",
    "                delta_t = grupo1[grupo1.tipo==\"final\"].iloc[-1].tempo - grupo1[grupo1.tipo==\"inicio\"].iloc[0].tempo\n",
    "                resultados.append({\"user_id\":u, \"delta_t\":delta_t, \"versao\":versao})"
   ]
  },
  {
   "cell_type": "code",
   "execution_count": 7,
   "metadata": {
    "collapsed": false
   },
   "outputs": [],
   "source": [
    "grupo1.sort_values(by=\"tempo\")\n",
    "dataframe_resumo = pd.DataFrame.from_records(resultados)\n",
    "dataframe_resumo.delta_t/=1000 # Convertendo milissegundos em segundos"
   ]
  },
  {
   "cell_type": "markdown",
   "metadata": {},
   "source": [
    "## <font color='blue'>1) Introdução </font>\n",
    "\n",
    "Um teste A/B é realizado com o intuito de verificar a eficiência de duas versões de um produto. No caso, estamos utilizando um portfólio. É muito útil para obter dados sobre qual abordagem, design, escrita, etc. pode ser mais convidativa ao usuário, facilitando sua utilização e melhorando as experiências do próprio usuário com o produto.\n",
    "\n",
    "Para realizarmos este teste A/B, criamos duas interfaces diferentes para um portfólio de projetos. Na versão A, temos o site ordenado por: Início, Sobre Mim, Projetos e Contato. Já na versão B, o site foi tirado da ordem, sendo organizado por: Início, Projetos, Sobre Mim e Contato.\n",
    "\n",
    "A tarefa incubida ao usuário, foi a de achar o Artigo \"Técnicas de Primitivação\", da matéria, Matemática da Variação, e ao achar, clicar no botão \"Achei\", determinando o fim da iteração. O que será usado para análise, será o tempo que o usuário levou, desde o carregamento da página até clicar no botão \"Achei\", na página do projeto.\n",
    "\n",
    "Com isso, poderemos dizer qual versão é a ideal para o usuário achar mais facilmente o projeto em questão. Quanto menor o tempo gasto nessa tarefa, mais otimizado o site é para mostrar o verdadeiro conteúdo do portfólio, os projetos.\n",
    "\n",
    "<img src=teste-ab.png width=900>"
   ]
  },
  {
   "cell_type": "markdown",
   "metadata": {},
   "source": [
    "## <font color='blue'>2) Análise</font>"
   ]
  },
  {
   "cell_type": "code",
   "execution_count": 8,
   "metadata": {
    "collapsed": false
   },
   "outputs": [
    {
     "data": {
      "text/plain": [
       "<matplotlib.text.Text at 0x22e64511a20>"
      ]
     },
     "execution_count": 8,
     "metadata": {},
     "output_type": "execute_result"
    },
    {
     "data": {
      "image/png": "[encoded data removed]",
      "text/plain": [
       "<matplotlib.figure.Figure at 0x22e5ffd3080>"
      ]
     },
     "metadata": {},
     "output_type": "display_data"
    }
   ],
   "source": [
    "tempos_A = list(dataframe_resumo[dataframe_resumo.versao==\"A\"].delta_t)\n",
    "tempos_B = list(dataframe_resumo[dataframe_resumo.versao==\"B\"].delta_t)\n",
    "plt.hist(tempos_A, bins=10, color = \"y\", alpha=0.5, normed = 1)\n",
    "plt.hist(tempos_B, bins=10, color = \"g\", alpha=0.5, normed = 1)\n",
    "\n",
    "plt.ylabel(\"Frequência relativa (%)\")\n",
    "plt.xlabel(\"Tempo (segundos)\")\n",
    "\n",
    "legendaA = mpatches.Patch(color='y', alpha = 0.5,  label='Versão A')\n",
    "legendaB = mpatches.Patch(color='g', alpha = 0.5, label='Versão B')\n",
    "plt.legend(handles=[legendaA, legendaB])\n",
    "plt.suptitle(\"Comparação inicial das Versões A e B\")"
   ]
  },
  {
   "cell_type": "markdown",
   "metadata": {},
   "source": [
    "Acima, temos os dados coletados no Firebase inicialmente, divididos entre as versões A e B do site."
   ]
  },
  {
   "cell_type": "code",
   "execution_count": 9,
   "metadata": {
    "collapsed": false
   },
   "outputs": [
    {
     "name": "stdout",
     "output_type": "stream",
     "text": [
      "Número de amostras da versão A: 24\n",
      "Número de amostras da versão B: 21\n"
     ]
    }
   ],
   "source": [
    "nA = len(tempos_A)\n",
    "nB = len(tempos_B)\n",
    "print(\"Número de amostras da versão A:\", nA)\n",
    "print(\"Número de amostras da versão B:\", nB)"
   ]
  },
  {
   "cell_type": "code",
   "execution_count": 10,
   "metadata": {
    "collapsed": false
   },
   "outputs": [
    {
     "name": "stdout",
     "output_type": "stream",
     "text": [
      "Média Amostral de A para n=10 (X̅): 46.3798763167\n",
      "Desvio Padrão Amostral de A para n=10: 8.37691132129\n",
      "Média Real da população A: 46.4580833333\n",
      "Desvio Padrão Real da população A: 41.1651510138\n"
     ]
    }
   ],
   "source": [
    "n = nA\n",
    "escolhaA = []\n",
    "for i in range(10000):\n",
    "    escolhaA.append(np.mean(np.random.choice(tempos_A,size=n)))\n",
    "\n",
    "print(\"Média Amostral de A para n=10 (X̅):\", np.mean(escolhaA))\n",
    "print(\"Desvio Padrão Amostral de A para n=10:\", np.std(escolhaA))\n",
    "print(\"Média Real da população A:\", np.mean(tempos_A))\n",
    "print(\"Desvio Padrão Real da população A:\", np.std(tempos_A))"
   ]
  },
  {
   "cell_type": "code",
   "execution_count": 11,
   "metadata": {
    "collapsed": false
   },
   "outputs": [
    {
     "name": "stdout",
     "output_type": "stream",
     "text": [
      "Média Amostral de B para n=10 (X̅): 32.7241081333\n",
      "Desvio Padrão Amostral de B para n=10: 7.33904748736\n",
      "Média Real da população B: 32.7948095238\n",
      "Desvio Padrão Real da população B: 33.811100121\n"
     ]
    }
   ],
   "source": [
    "n = nB\n",
    "escolhaB = []\n",
    "for i in range(10000):\n",
    "    escolhaB.append(np.mean(np.random.choice(tempos_B,size=n)))\n",
    "\n",
    "print(\"Média Amostral de B para n=10 (X̅):\", np.mean(escolhaB))\n",
    "print(\"Desvio Padrão Amostral de B para n=10:\", np.std(escolhaB))\n",
    "print(\"Média Real da população B:\", np.mean(tempos_B))\n",
    "print(\"Desvio Padrão Real da população B:\", np.std(tempos_B))"
   ]
  },
  {
   "cell_type": "code",
   "execution_count": 12,
   "metadata": {
    "collapsed": false
   },
   "outputs": [
    {
     "data": {
      "text/plain": [
       "<matplotlib.text.Text at 0x22e6341be80>"
      ]
     },
     "execution_count": 12,
     "metadata": {},
     "output_type": "execute_result"
    },
    {
     "data": {
      "image/png": "[encoded data removed]",
      "text/plain": [
       "<matplotlib.figure.Figure at 0x22e6488aeb8>"
      ]
     },
     "metadata": {},
     "output_type": "display_data"
    }
   ],
   "source": [
    "histmediaamostralA = plt.hist(escolhaA, bins = 10, normed = 1, color=\"r\", alpha = 0.5)\n",
    "histmediaamostralB = plt.hist(escolhaB, bins = 10, normed = 1, color=\"b\", alpha = 0.5)\n",
    "plt.ylabel(\"Frequência relativa (%)\")\n",
    "plt.xlabel(\"Tempo (segundos)\")\n",
    "\n",
    "legendaA = mpatches.Patch(color='r', alpha = 0.5,  label='Versão A')\n",
    "legendaB = mpatches.Patch(color='b', alpha = 0.5, label='Versão B')\n",
    "plt.legend(handles=[legendaA, legendaB])\n",
    "plt.suptitle(\"Comparação das Médias Amostrais (n = 10) A e B\")"
   ]
  },
  {
   "cell_type": "markdown",
   "metadata": {},
   "source": [
    "Faremos uma comparação de duas médias, que, no caso, são <b>independentes</b> e com distribuição conhecida, por se tratar de um Teste A/B, assim como no exemplo 9.2 da página 310 do livro do Magalhães. Para isso, precisamos saber se as variâncias das duas amostras são diferentes ou não. \n",
    "\n",
    "Portanto, vamos realizar um teste de hipóteses F, visto que iremos comparar a variância de duas amostras diferentes.\n",
    "<li><b>H0:</b> VarA = VarB (a variância da versão A será igual à variância da versão B) -> <u>Hipótese Nula</u>; </li>\n",
    "<li><b>Ha:</b> VarA ≠ VarB (a variância da versão A será diferente da variância da versão B) -> <u>Hipótese Alternativa</u>; </li>\n",
    "\n",
    "Para realizar o teste F, vamos levar em conta um <b>nível de significância de 5%.</b>"
   ]
  },
  {
   "cell_type": "code",
   "execution_count": 28,
   "metadata": {
    "collapsed": false
   },
   "outputs": [
    {
     "name": "stdout",
     "output_type": "stream",
     "text": [
      "Graus de liberdade A: 23\n",
      "Graus de liberdade B: 20\n",
      "Nível de Significância: 5.0 %\n",
      "Ponto crítico: 0.488367561607\n",
      "\n"
     ]
    }
   ],
   "source": [
    "vA = nA - 1\n",
    "vB = nB - 1\n",
    "print(\"Graus de liberdade A:\",vA)\n",
    "print(\"Graus de liberdade B:\",vB)\n",
    "\n",
    "signif = 0.05\n",
    "print(\"Nível de Significância:\", signif*100, \"%\")\n",
    "\n",
    "valor_max_f = stats.f.ppf(signif,vA,vB)\n",
    "print(\"Ponto crítico:\",valor_max_f)\n",
    "print()"
   ]
  },
  {
   "cell_type": "code",
   "execution_count": 17,
   "metadata": {
    "collapsed": false
   },
   "outputs": [
    {
     "name": "stdout",
     "output_type": "stream",
     "text": [
      "F observado: 1.48231608883\n"
     ]
    }
   ],
   "source": [
    "f_obs= np.var(tempos_A)/np.var(tempos_B)\n",
    "print('F observado:',f_obs)"
   ]
  },
  {
   "cell_type": "markdown",
   "metadata": {},
   "source": [
    "Visto que o F observado é maior que o ponto crítico, podemos rejeitar a hipótese nula, de que as variâncias são iguais. Portanto, a partir de agora temos duas médias amostrais independentes e duas <b>variâncias diferentes e independentes</b>."
   ]
  },
  {
   "cell_type": "markdown",
   "metadata": {},
   "source": [
    "O teste a ser realizado será o teste de hipóteses de <b>t-Student</b>, visto que temos poucas amostras para a inferência com um teste Z. <br>\n",
    "\n",
    "<li><b>H0:</b> µa = µb (a média de tempo da versão A será igual à média de tempo da versão B) -> <u>Hipótese Nula</u>; </li>\n",
    "<li><b>Ha:</b> µa > µb (a média de tempo da versão A será maior do que a média de tempo da versão B) -> <u>Hipótese Alternativa</u>; </li>"
   ]
  },
  {
   "cell_type": "markdown",
   "metadata": {},
   "source": [
    "<img src=\"eq1.png\" width=200, align=\"left\">\n",
    "Usaremos a equação abaixo para calcular T. \n",
    "<br>Note que em nossa hipótese nula, as médias devem ser iguais."
   ]
  },
  {
   "cell_type": "markdown",
   "metadata": {},
   "source": [
    "Esta outra equação calcula o grau de liberdade.\n",
    "<img src=\"eq2.png\" width=200, align=\"left\">"
   ]
  },
  {
   "cell_type": "markdown",
   "metadata": {},
   "source": [
    "Para realizar o teste t-Student, vamos levar em conta uma <b>nível de significância de 5%.</b>"
   ]
  },
  {
   "cell_type": "code",
   "execution_count": 25,
   "metadata": {
    "collapsed": false
   },
   "outputs": [
    {
     "name": "stdout",
     "output_type": "stream",
     "text": [
      "Graus de liberdade: 41.3303630183\n",
      "Nível de Significância: 5.0 %\n"
     ]
    }
   ],
   "source": [
    "v = (((((np.var(escolhaA)**2)/nA) + ((np.var(escolhaB)**2)/nB))**2) / (((((np.var(escolhaA)**2)/nA)**2)/(nA-1)) + ((((np.var(escolhaB)**2)/nB)**2)/(nB-1))))-1\n",
    "print(\"Graus de liberdade:\",v)\n",
    "signif = 0.05\n",
    "print(\"Nível de Significância:\", signif*100, \"%\")"
   ]
  },
  {
   "cell_type": "code",
   "execution_count": 26,
   "metadata": {
    "collapsed": false
   },
   "outputs": [
    {
     "name": "stdout",
     "output_type": "stream",
     "text": [
      "Ponto crítico: 1.68256713487\n"
     ]
    }
   ],
   "source": [
    "pc = -stats.t.ppf(signif,v)\n",
    "print(\"Ponto crítico:\",pc)"
   ]
  },
  {
   "cell_type": "markdown",
   "metadata": {},
   "source": [
    "Olhando na tabela de distribuição T-Student, este resultado de ponto crítico é confirmado. Aproximando o grau de liberdade para <u>40</u> e cruzando com o nível de significância <u>0.05</u>, temos <b>1,684</b>."
   ]
  },
  {
   "cell_type": "code",
   "execution_count": 29,
   "metadata": {
    "collapsed": false
   },
   "outputs": [
    {
     "name": "stdout",
     "output_type": "stream",
     "text": [
      "T observado: 1.22119065203\n"
     ]
    }
   ],
   "source": [
    "varA = np.var(tempos_A)\n",
    "varB = np.var(tempos_B)\n",
    "D = np.mean(escolhaA) - np.mean(escolhaB)\n",
    "T = D/(math.sqrt(varA/nA + varB/nB))\n",
    "print(\"T observado:\",T)"
   ]
  },
  {
   "cell_type": "markdown",
   "metadata": {},
   "source": [
    "Visto que T_observado é menor que T_crítico para um Nível de Significância (Alfa) de 5%, então, <b>a hipótese nula não deve ser rejeitada</b>, uma vez que a probabilidade de µa ≠ µb para esse Intervalo de Confiança (95%) é muito pequena. Portanto, pode-se concluir que, depois do teste feito, a diferença entre as interfaces não é relevante o bastante para se julgar que uma é mais eficiente que a outra. Para melhorar o site do portfólio futuramente, um outro teste A/B deveria ser feito, a fim de se realizar a técnica de inferência estatística novamente e concluir que uma versão realmente é melhor que a outra."
   ]
  }
 ],
 "metadata": {
  "kernelspec": {
   "display_name": "Python 3",
   "language": "python",
   "name": "python3"
  },
  "language_info": {
   "codemirror_mode": {
    "name": "ipython",
    "version": 3
   },
   "file_extension": ".py",
   "mimetype": "text/x-python",
   "name": "python",
   "nbconvert_exporter": "python",
   "pygments_lexer": "ipython3",
   "version": "3.5.1"
  }
 },
 "nbformat": 4,
 "nbformat_minor": 0
}
