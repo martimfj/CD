{
 "cells": [
  {
   "cell_type": "markdown",
   "metadata": {},
   "source": [
    "___\n",
    "# Atividade: Teoria da Probabilidade\n",
    "___\n",
    "\n",
    "## Aula 08\n",
    "\n",
    "**Referência de Leitura:**\n",
    "1. Magalhães e Lima (7ª. Edição): pág. 49 a 68 - Probabilidades\n",
    "\n",
    "**Hoje:**\n",
    "1. Conceito de Probabilidade\n",
    "4. Probabilidade Condicional\n",
    "3. Independência de eventos\n",
    "5. Teorema de Bayes. Simulação do problema de Monty Hall\n",
    "\n",
    "**Próxima aula:**\n",
    "1. Magalhães e Lima (7ª. Edição): pág. 69 a 104 - Variáveis aleatórias discretas\n",
    "___"
   ]
  },
  {
   "cell_type": "code",
   "execution_count": 74,
   "metadata": {
    "collapsed": true
   },
   "outputs": [],
   "source": [
    "%matplotlib inline\n",
    "import pandas as pd\n",
    "import matplotlib.pyplot as plt\n",
    "\n",
    "#Bibliotecas necessárias\n",
    "from numpy.random import shuffle, randint, choice\n",
    "import numpy as np\n"
   ]
  },
  {
   "cell_type": "markdown",
   "metadata": {},
   "source": [
    "## <font color='blue'>Exercício 1</font>\n",
    "\n",
    "Monte a simulação de 1000 jogadas de um dado idôneo de 6 faces. Faça o histograma (normalizado) da frequência.\n",
    "\n",
    "    a) Olhando o histograma, o que pode se dizer sobre as probabilidade de cada face?\n",
    "    \n",
    "    b) Discorra sobre o porque da probabilidade não ser exatamente igual à teórica."
   ]
  },
  {
   "cell_type": "code",
   "execution_count": 82,
   "metadata": {
    "collapsed": false
   },
   "outputs": [],
   "source": [
    "dado = [1,2,3,4,5,6]\n",
    "numeros = []\n",
    "\n",
    "for i in range(500000):\n",
    "    escolha_dado = random.choice(dado)\n",
    "    numeros.append(escolha_dado)"
   ]
  },
  {
   "cell_type": "code",
   "execution_count": 77,
   "metadata": {
    "collapsed": false
   },
   "outputs": [
    {
     "data": {
      "text/plain": [
       "(array([ 177.,  184.,  156.,  167.,  165.,  151.]),\n",
       " array([ 0.5,  1.5,  2.5,  3.5,  4.5,  5.5,  6.5]),\n",
       " <a list of 6 Patch objects>)"
      ]
     },
     "execution_count": 77,
     "metadata": {},
     "output_type": "execute_result"
    },
    {
     "data": {
      "image/png": "[encoded data removed]",
      "text/plain": [
       "<matplotlib.figure.Figure at 0x2795bababa8>"
      ]
     },
     "metadata": {},
     "output_type": "display_data"
    }
   ],
   "source": [
    "plt.hist(numeros, bins = np.arange(0.5,7,1))"
   ]
  },
  {
   "cell_type": "code",
   "execution_count": 83,
   "metadata": {
    "collapsed": false
   },
   "outputs": [
    {
     "data": {
      "text/plain": [
       "(array([ 83270.,  83556.,  83050.,  83801.,  83122.,  83201.]),\n",
       " array([ 0.5,  1.5,  2.5,  3.5,  4.5,  5.5,  6.5]),\n",
       " <a list of 6 Patch objects>)"
      ]
     },
     "execution_count": 83,
     "metadata": {},
     "output_type": "execute_result"
    },
    {
     "data": {
      "image/png": "[encoded data removed]",
      "text/plain": [
       "<matplotlib.figure.Figure at 0x2795ba6ad68>"
      ]
     },
     "metadata": {},
     "output_type": "display_data"
    }
   ],
   "source": [
    "plt.hist(numeros, bins = np.arange(0.5,7,1))"
   ]
  },
  {
   "cell_type": "markdown",
   "metadata": {},
   "source": [
    "a) Olhando o histograma, podemos concluir que as probabilidades não são iguais para todas as faces do dado, sendo a face \"2\" a mais provável de cair.\n",
    "\n",
    "b) A probabilidade não é exatamente igual à teórica, pois estamos utilizando poucas jogadas. Se utilizarmos muito mais jogadas, o histograma vai ficar igual para todas. (Hist 2)"
   ]
  },
  {
   "cell_type": "markdown",
   "metadata": {},
   "source": [
    "___\n",
    "## <font color='blue'>Exercício 2</font>\n",
    "\n",
    "Ampliando o espaço amostral para as possíveis jogadas de 2 dados, analise as seguintes situações:\n",
    "    \n",
    "    a) Jogando os dois dados ao mesmo tempo. Qual é a probabilidade de obter soma 7?\n",
    "    \n",
    "    b) Jogando um dado e depois o segundo dado. Qual é a probabilidade de obter soma 7 já sabendo o resultado do primeiro? Compare o resultado com item anterior! Por que é igual ou diferente?"
   ]
  },
  {
   "cell_type": "code",
   "execution_count": 99,
   "metadata": {
    "collapsed": false
   },
   "outputs": [
    {
     "name": "stdout",
     "output_type": "stream",
     "text": [
      "A probabilidade será de: 16.28 %\n"
     ]
    }
   ],
   "source": [
    "dado = [1,2,3,4,5,6]\n",
    "soma7 = 0\n",
    "\n",
    "for i in range(10000):\n",
    "    dado1 = random.choice(dado)\n",
    "    dado2 = random.choice(dado)\n",
    "    \n",
    "    if (dado1 + dado2 == 7):\n",
    "        soma7 += 1\n",
    "        \n",
    "print(\"A probabilidade será de:\",(soma7/10000)*100,\"%\")"
   ]
  },
  {
   "cell_type": "code",
   "execution_count": 100,
   "metadata": {
    "collapsed": false
   },
   "outputs": [
    {
     "name": "stdout",
     "output_type": "stream",
     "text": [
      "A probabilidade será de:  16.73 %\n"
     ]
    }
   ],
   "source": [
    "dado = [1,2,3,4,5,6]\n",
    "soma7 = 0\n",
    "acertar = 7\n",
    "\n",
    "for i in range(10000):\n",
    "    dado1 = random.choice(dado)\n",
    "    acertar = 7 - dado1\n",
    "    dado2 = random.choice(dado)\n",
    "    if acertar == dado2:\n",
    "        soma7 += 1\n",
    "        \n",
    "print(\"A probabilidade será de: \",(soma7/10000)*100,\"%\")"
   ]
  },
  {
   "cell_type": "markdown",
   "metadata": {},
   "source": [
    "___\n",
    "## <font color='blue'>Exercício 3</font>\n",
    "\n",
    "Simule 10000 vezes o problema de Monty Hall¹ , usar o seguinte algoritmo:\n",
    "\n",
    "\n",
    "* Repetir 10000 vezes:\n",
    "    * Sorteie um número de porta de 1 a 3 para ser a premiada\n",
    "    * Sorteie um número de porta de 1 a 3 para ser a porta escolhida.\n",
    "    * Sorteie um número de porta para ser a aberta, desde que não seja a premiada e nem a porta escolhida. Assim, se:\n",
    "        * porta premiada é 1 e a escolhida é 1, sorteie entre as portas 2 e 3 para ser aberta\n",
    "        * porta premiada é 1 e a escolhida é 2, com probabilidade 1 deve abrir a porta 3\n",
    "        * porta premiada é 1 e a escolhida é 3, com probabilidade 1 deve abrir a porta 2\n",
    "        * assim para demais casos...\n",
    "    \n",
    "    * Calcule quantas vezes indivíduo ganha ao trocar de porta. Ou seja, se:\n",
    "        * porta premiada é 1, a escolhida é 1 e aberta é 2 (ou 3), indivíduo perde se trocar de porta\n",
    "        * porta premiada é 1, a escolhida é 2 e aberta é 3, indivíduo ganha se trocar de porta\n",
    "        * porta premiada é 1, a escolhida é 3 e aberta é 2, indivíduo ganha se trocar de porta\n",
    "        * assim para demais casos...\n",
    "        \n",
    "    * Exibir quantas vezes em 10000, o indivíduo ganhou ao trocar de porta.\n",
    "\n",
    "Compare o resultado numérico com o resultado analítico obtido via Teorema de Bayes.\n",
    "\n",
    "¹https://en.wikipedia.org/wiki/Monty_Hall_problem e \n",
    "Exercício 1.4.5 de http://www.portalaction.com.br/probabilidades/14-eventos-independentes-e-probabilidade-condicional"
   ]
  },
  {
   "cell_type": "markdown",
   "metadata": {},
   "source": [
    "# Problema\n",
    "Suppose you're on a game show, and you're given the choice of three doors: Behind one door is a car; behind the others, goats. You pick a door, say No. 1, and the host, who knows what's behind the doors, opens another door, say No. 3, which has a goat. He then says to you, \"Do you want to pick door No. 2?\" Is it to your advantage to switch your choice?"
   ]
  },
  {
   "cell_type": "code",
   "execution_count": 79,
   "metadata": {
    "collapsed": false
   },
   "outputs": [
    {
     "name": "stdout",
     "output_type": "stream",
     "text": [
      "Ao mudar, a chance é de 67.64%\n",
      "Ao ficar, a chance é de 32.36%\n"
     ]
    }
   ],
   "source": [
    "#0 Representa o Vaso Sanitário\n",
    "#1 Representa o Prêmio \"Free Beer 4 Life\" no Sujinho\n",
    "ficar = 0                                                            #Representa o número de jogos vencidos ao ficar com a porta\n",
    "trocar = 0                                                           #Representa o número de jogos vencidos ao trocar de porta\n",
    " \n",
    "for i in range(10000):                                               #Para 10000 simulações\n",
    "    portas = [1,0,0]                                                 #Representa as portas e seus conteúdos\n",
    "    random.shuffle(portas)                                           #Embaralha as portas\n",
    "    \n",
    "    #Embaralhadas as portas, precisamos escolher uma delas:\n",
    " \n",
    "    escolha = random.choice(portas)                                  #Escolhe uma das portas\n",
    "    porta_escolhida = escolha                                        #Guarda a escolha\n",
    "    \n",
    "    #O apresentador vai, então, abrir uma porta com um Vaso Sanitário:\n",
    "    for vaso in portas:\n",
    "        if vaso == 0:\n",
    "            portas.remove(vaso)\n",
    "            break\n",
    "            \n",
    "    #Teremos então uma porta com um Vaso Sanitário e outra com o \"Free Beer 4 Life\"\n",
    "    #Vamos organizar a lista, então, assim garantimos que a primeira escolha estará em [0] e a outra em [1]\n",
    "    x = portas[0]\n",
    "    portas[0] = porta_escolhida\n",
    "    portas[1] = x\n",
    "    \n",
    "    #Se mantermos a porta escolhida inicialmente e ela for a vencedora, a estratégia \"ficar\" ganha:\n",
    "    if portas[0] == 1:                                                 \n",
    "        ficar += 1\n",
    "        \n",
    "    #Se trocarmos a porta escolhida inicialmente e a nova for a vencedora, a estratégia \"trocar\" ganha: \n",
    "    else:\n",
    "        trocar +=1\n",
    "\n",
    "print(\"Ao mudar, a chance é de {0}%\".format(trocar*100/10000))\n",
    "print(\"Ao ficar, a chance é de {0}%\".format(ficar*100/10000))"
   ]
  },
  {
   "cell_type": "code",
   "execution_count": null,
   "metadata": {
    "collapsed": true
   },
   "outputs": [],
   "source": []
  }
 ],
 "metadata": {
  "anaconda-cloud": {},
  "kernelspec": {
   "display_name": "Python 3",
   "language": "python",
   "name": "python3"
  },
  "language_info": {
   "codemirror_mode": {
    "name": "ipython",
    "version": 3
   },
   "file_extension": ".py",
   "mimetype": "text/x-python",
   "name": "python",
   "nbconvert_exporter": "python",
   "pygments_lexer": "ipython3",
   "version": "3.5.1"
  }
 },
 "nbformat": 4,
 "nbformat_minor": 0
}
